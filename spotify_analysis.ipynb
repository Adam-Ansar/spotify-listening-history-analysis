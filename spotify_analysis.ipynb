{
 "cells": [
  {
   "cell_type": "markdown",
   "id": "1a42db4c",
   "metadata": {},
   "source": [
    "## Introduction to Data Cleaning and Manipulation\n",
    "\n",
    "Before diving into analysis, it is essential to ensure our dataset—Spotify's top listening history songs—is clean, consistent, and well-structured. Data cleaning and manipulation are crucial steps that help us:\n",
    "\n",
    "- **Remove inconsistencies:** Address missing values, duplicates, and formatting issues.\n",
    "- **Standardize data:** Ensure uniformity in artist names, song titles, and genres.\n",
    "- **Enhance usability:** Create new features, filter relevant records, and prepare the data for insightful analysis.\n",
    "\n",
    "Additionally, it is important to import the necessary libraries required for data analysis, such as pandas for data manipulation, matplotlib and seaborn for visualization, and others as needed.\n",
    "\n",
    "By carefully cleaning and manipulating the dataset, we lay a solid foundation for accurate and meaningful exploration of listening trends and patterns on Spotify."
   ]
  },
  {
   "cell_type": "code",
   "execution_count": 3,
   "id": "37dee057",
   "metadata": {},
   "outputs": [],
   "source": [
    "import pandas as pd\n",
    "import matplotlib.pyplot as plt\n",
    "import seaborn as sns\n",
    "import numpy as np\n",
    "\n",
    "\n",
    "# Set some display options for better viewing of DataFrames\n",
    "pd.set_option('display.max_columns', None)\n",
    "pd.set_option('display.width', 1000)"
   ]
  },
  {
   "cell_type": "code",
   "execution_count": 6,
   "id": "b0360c2c",
   "metadata": {},
   "outputs": [
    {
     "data": {
      "text/html": [
       "<div>\n",
       "<style scoped>\n",
       "    .dataframe tbody tr th:only-of-type {\n",
       "        vertical-align: middle;\n",
       "    }\n",
       "\n",
       "    .dataframe tbody tr th {\n",
       "        vertical-align: top;\n",
       "    }\n",
       "\n",
       "    .dataframe thead th {\n",
       "        text-align: right;\n",
       "    }\n",
       "</style>\n",
       "<table border=\"1\" class=\"dataframe\">\n",
       "  <thead>\n",
       "    <tr style=\"text-align: right;\">\n",
       "      <th></th>\n",
       "      <th>spotify_track_uri</th>\n",
       "      <th>ts</th>\n",
       "      <th>platform</th>\n",
       "      <th>ms_played</th>\n",
       "      <th>track_name</th>\n",
       "      <th>artist_name</th>\n",
       "      <th>album_name</th>\n",
       "      <th>reason_start</th>\n",
       "      <th>reason_end</th>\n",
       "      <th>shuffle</th>\n",
       "      <th>skipped</th>\n",
       "    </tr>\n",
       "  </thead>\n",
       "  <tbody>\n",
       "    <tr>\n",
       "      <th>0</th>\n",
       "      <td>2J3n32GeLmMjwuAzyhcSNe</td>\n",
       "      <td>2013-07-08 02:44:34</td>\n",
       "      <td>web player</td>\n",
       "      <td>3185</td>\n",
       "      <td>Say It, Just Say It</td>\n",
       "      <td>The Mowgli's</td>\n",
       "      <td>Waiting For The Dawn</td>\n",
       "      <td>autoplay</td>\n",
       "      <td>clickrow</td>\n",
       "      <td>False</td>\n",
       "      <td>False</td>\n",
       "    </tr>\n",
       "    <tr>\n",
       "      <th>1</th>\n",
       "      <td>1oHxIPqJyvAYHy0PVrDU98</td>\n",
       "      <td>2013-07-08 02:45:37</td>\n",
       "      <td>web player</td>\n",
       "      <td>61865</td>\n",
       "      <td>Drinking from the Bottle (feat. Tinie Tempah)</td>\n",
       "      <td>Calvin Harris</td>\n",
       "      <td>18 Months</td>\n",
       "      <td>clickrow</td>\n",
       "      <td>clickrow</td>\n",
       "      <td>False</td>\n",
       "      <td>False</td>\n",
       "    </tr>\n",
       "    <tr>\n",
       "      <th>2</th>\n",
       "      <td>487OPlneJNni3NWC8SYqhW</td>\n",
       "      <td>2013-07-08 02:50:24</td>\n",
       "      <td>web player</td>\n",
       "      <td>285386</td>\n",
       "      <td>Born To Die</td>\n",
       "      <td>Lana Del Rey</td>\n",
       "      <td>Born To Die - The Paradise Edition</td>\n",
       "      <td>clickrow</td>\n",
       "      <td>unknown</td>\n",
       "      <td>False</td>\n",
       "      <td>False</td>\n",
       "    </tr>\n",
       "    <tr>\n",
       "      <th>3</th>\n",
       "      <td>5IyblF777jLZj1vGHG2UD3</td>\n",
       "      <td>2013-07-08 02:52:40</td>\n",
       "      <td>web player</td>\n",
       "      <td>134022</td>\n",
       "      <td>Off To The Races</td>\n",
       "      <td>Lana Del Rey</td>\n",
       "      <td>Born To Die - The Paradise Edition</td>\n",
       "      <td>trackdone</td>\n",
       "      <td>clickrow</td>\n",
       "      <td>False</td>\n",
       "      <td>False</td>\n",
       "    </tr>\n",
       "    <tr>\n",
       "      <th>4</th>\n",
       "      <td>0GgAAB0ZMllFhbNc3mAodO</td>\n",
       "      <td>2013-07-08 03:17:52</td>\n",
       "      <td>web player</td>\n",
       "      <td>0</td>\n",
       "      <td>Half Mast</td>\n",
       "      <td>Empire Of The Sun</td>\n",
       "      <td>Walking On A Dream</td>\n",
       "      <td>clickrow</td>\n",
       "      <td>nextbtn</td>\n",
       "      <td>False</td>\n",
       "      <td>False</td>\n",
       "    </tr>\n",
       "  </tbody>\n",
       "</table>\n",
       "</div>"
      ],
      "text/plain": [
       "        spotify_track_uri                   ts    platform  ms_played                                     track_name        artist_name                          album_name reason_start reason_end  shuffle  skipped\n",
       "0  2J3n32GeLmMjwuAzyhcSNe  2013-07-08 02:44:34  web player       3185                            Say It, Just Say It       The Mowgli's                Waiting For The Dawn     autoplay   clickrow    False    False\n",
       "1  1oHxIPqJyvAYHy0PVrDU98  2013-07-08 02:45:37  web player      61865  Drinking from the Bottle (feat. Tinie Tempah)      Calvin Harris                           18 Months     clickrow   clickrow    False    False\n",
       "2  487OPlneJNni3NWC8SYqhW  2013-07-08 02:50:24  web player     285386                                    Born To Die       Lana Del Rey  Born To Die - The Paradise Edition     clickrow    unknown    False    False\n",
       "3  5IyblF777jLZj1vGHG2UD3  2013-07-08 02:52:40  web player     134022                               Off To The Races       Lana Del Rey  Born To Die - The Paradise Edition    trackdone   clickrow    False    False\n",
       "4  0GgAAB0ZMllFhbNc3mAodO  2013-07-08 03:17:52  web player          0                                      Half Mast  Empire Of The Sun                  Walking On A Dream     clickrow    nextbtn    False    False"
      ]
     },
     "execution_count": 6,
     "metadata": {},
     "output_type": "execute_result"
    }
   ],
   "source": [
    "# Load the dataset\n",
    "df = pd.read_csv('spotify_history.csv')\n",
    "# Display the first few rows of the DataFrame to ensure it's loaded correctly\n",
    "df.head()"
   ]
  },
  {
   "cell_type": "code",
   "execution_count": 8,
   "id": "8577e8e8",
   "metadata": {},
   "outputs": [
    {
     "name": "stdout",
     "output_type": "stream",
     "text": [
      "<class 'pandas.core.frame.DataFrame'>\n",
      "RangeIndex: 149860 entries, 0 to 149859\n",
      "Data columns (total 11 columns):\n",
      " #   Column             Non-Null Count   Dtype \n",
      "---  ------             --------------   ----- \n",
      " 0   spotify_track_uri  149860 non-null  object\n",
      " 1   ts                 149860 non-null  object\n",
      " 2   platform           149860 non-null  object\n",
      " 3   ms_played          149860 non-null  int64 \n",
      " 4   track_name         149860 non-null  object\n",
      " 5   artist_name        149860 non-null  object\n",
      " 6   album_name         149860 non-null  object\n",
      " 7   reason_start       149717 non-null  object\n",
      " 8   reason_end         149743 non-null  object\n",
      " 9   shuffle            149860 non-null  bool  \n",
      " 10  skipped            149860 non-null  bool  \n",
      "dtypes: bool(2), int64(1), object(8)\n",
      "memory usage: 10.6+ MB\n"
     ]
    }
   ],
   "source": [
    "# Discover basic information about the dataset\n",
    "df.info()\n"
   ]
  },
  {
   "cell_type": "code",
   "execution_count": 15,
   "id": "d9b1eb77",
   "metadata": {},
   "outputs": [
    {
     "data": {
      "text/html": [
       "<div>\n",
       "<style scoped>\n",
       "    .dataframe tbody tr th:only-of-type {\n",
       "        vertical-align: middle;\n",
       "    }\n",
       "\n",
       "    .dataframe tbody tr th {\n",
       "        vertical-align: top;\n",
       "    }\n",
       "\n",
       "    .dataframe thead th {\n",
       "        text-align: right;\n",
       "    }\n",
       "</style>\n",
       "<table border=\"1\" class=\"dataframe\">\n",
       "  <thead>\n",
       "    <tr style=\"text-align: right;\">\n",
       "      <th></th>\n",
       "      <th>ms_played</th>\n",
       "    </tr>\n",
       "  </thead>\n",
       "  <tbody>\n",
       "    <tr>\n",
       "      <th>count</th>\n",
       "      <td>1.496480e+05</td>\n",
       "    </tr>\n",
       "    <tr>\n",
       "      <th>mean</th>\n",
       "      <td>1.282949e+05</td>\n",
       "    </tr>\n",
       "    <tr>\n",
       "      <th>std</th>\n",
       "      <td>1.178286e+05</td>\n",
       "    </tr>\n",
       "    <tr>\n",
       "      <th>min</th>\n",
       "      <td>0.000000e+00</td>\n",
       "    </tr>\n",
       "    <tr>\n",
       "      <th>25%</th>\n",
       "      <td>2.790750e+03</td>\n",
       "    </tr>\n",
       "    <tr>\n",
       "      <th>50%</th>\n",
       "      <td>1.388400e+05</td>\n",
       "    </tr>\n",
       "    <tr>\n",
       "      <th>75%</th>\n",
       "      <td>2.184940e+05</td>\n",
       "    </tr>\n",
       "    <tr>\n",
       "      <th>max</th>\n",
       "      <td>1.561125e+06</td>\n",
       "    </tr>\n",
       "  </tbody>\n",
       "</table>\n",
       "</div>"
      ],
      "text/plain": [
       "          ms_played\n",
       "count  1.496480e+05\n",
       "mean   1.282949e+05\n",
       "std    1.178286e+05\n",
       "min    0.000000e+00\n",
       "25%    2.790750e+03\n",
       "50%    1.388400e+05\n",
       "75%    2.184940e+05\n",
       "max    1.561125e+06"
      ]
     },
     "execution_count": 15,
     "metadata": {},
     "output_type": "execute_result"
    }
   ],
   "source": [
    "# Load descriptive statistics\n",
    "df.describe()"
   ]
  },
  {
   "cell_type": "code",
   "execution_count": 11,
   "id": "42c37354",
   "metadata": {},
   "outputs": [
    {
     "name": "stdout",
     "output_type": "stream",
     "text": [
      "Missing values in each column:\n",
      "spotify_track_uri      0\n",
      "ts                     0\n",
      "platform               0\n",
      "ms_played              0\n",
      "track_name             0\n",
      "artist_name            0\n",
      "album_name             0\n",
      "reason_start         143\n",
      "reason_end           117\n",
      "shuffle                0\n",
      "skipped                0\n",
      "dtype: int64\n"
     ]
    }
   ],
   "source": [
    "# Check for missing values in the dataset\n",
    "missing_values = df.isnull().sum()\n",
    "\n",
    "# Display the missing values\n",
    "print(\"Missing values in each column:\")\n",
    "if missing_values.sum() == 0:\n",
    "    print(\"No missing values found in the dataset.\")\n",
    "else:\n",
    "    print(missing_values)"
   ]
  },
  {
   "cell_type": "code",
   "execution_count": 14,
   "id": "8a6f1979",
   "metadata": {},
   "outputs": [
    {
     "name": "stdout",
     "output_type": "stream",
     "text": [
      "Missing values after handling:\n",
      "No missing values found in the dataset after handling.\n"
     ]
    }
   ],
   "source": [
    "# Drop rows with missing values in 'reason_start' and 'reason_end' columns\n",
    "df.dropna(subset=['reason_start', 'reason_end'], inplace=True)\n",
    "\n",
    "# Verify that the missing values have been handled\n",
    "missing_values_after = df.isnull().sum()\n",
    "print(\"Missing values after handling:\")\n",
    "if missing_values_after.sum() == 0:\n",
    "    print(\"No missing values found in the dataset after handling.\")"
   ]
  },
  {
   "cell_type": "code",
   "execution_count": 16,
   "id": "52ebd76e",
   "metadata": {},
   "outputs": [
    {
     "name": "stdout",
     "output_type": "stream",
     "text": [
      "Number of duplicate rows: 1185\n"
     ]
    }
   ],
   "source": [
    "# Check duplicates in the dataset\n",
    "duplicates = df.duplicated().sum()  \n",
    "print(f\"Number of duplicate rows: {duplicates}\")\n"
   ]
  },
  {
   "cell_type": "code",
   "execution_count": 17,
   "id": "f8d4e71b",
   "metadata": {},
   "outputs": [
    {
     "name": "stdout",
     "output_type": "stream",
     "text": [
      "Number of duplicate rows after handling: 0\n"
     ]
    }
   ],
   "source": [
    "# Drop duplicates in the dataset\n",
    "df.drop_duplicates(inplace=True)    \n",
    "# Verify that the duplicates have been handled\n",
    "duplicates_after = df.duplicated().sum()\n",
    "print(f\"Number of duplicate rows after handling: {duplicates_after}\")"
   ]
  },
  {
   "cell_type": "code",
   "execution_count": 19,
   "id": "c98c59df",
   "metadata": {},
   "outputs": [
    {
     "name": "stdout",
     "output_type": "stream",
     "text": [
      "Data types of each column:\n",
      "spotify_track_uri    object\n",
      "ts                   object\n",
      "platform             object\n",
      "ms_played             int64\n",
      "track_name           object\n",
      "artist_name          object\n",
      "album_name           object\n",
      "reason_start         object\n",
      "reason_end           object\n",
      "shuffle                bool\n",
      "skipped                bool\n",
      "dtype: object\n"
     ]
    }
   ],
   "source": [
    "# Check data type consistency\n",
    "print(\"Data types of each column:\")\n",
    "print(df.dtypes)\n",
    "# Check for unique values in categorical columns\n",
    "categorical_columns = ['platform', 'reason_start', 'reason_end', 'artist_name',\n",
    "                          'track_name']\n"
   ]
  },
  {
   "cell_type": "code",
   "execution_count": 21,
   "id": "e9fdf804",
   "metadata": {},
   "outputs": [
    {
     "name": "stdout",
     "output_type": "stream",
     "text": [
      "\n",
      "'ts' column converted to datetime:\n",
      "datetime64[ns]\n"
     ]
    }
   ],
   "source": [
    "# Convert 'ts' column to datetime format\n",
    "df['ts'] = pd.to_datetime(df['ts'])\n",
    "print(\"\\n'ts' column converted to datetime:\")\n",
    "print(df['ts'].dtype) # Verify the change"
   ]
  },
  {
   "cell_type": "code",
   "execution_count": 24,
   "id": "5d88235b",
   "metadata": {},
   "outputs": [
    {
     "name": "stdout",
     "output_type": "stream",
     "text": [
      "Unique values in 'platform' after standardization:\n",
      "['web player' 'windows' 'android' 'ios' 'cast to device' 'mac']\n",
      "Unique values in 'reason_start' after standardization:\n",
      "['autoplay' 'clickrow' 'trackdone' 'nextbtn' 'backbtn' 'unknown' 'popup'\n",
      " 'appload' 'fwdbtn' 'trackerror' 'remote' 'endplay' 'playbtn']\n",
      "Unique values in 'reason_end' after standardization:\n",
      "['clickrow' 'unknown' 'nextbtn' 'trackdone' 'backbtn' 'reload' 'popup'\n",
      " 'endplay' 'fwdbtn' 'appload' 'unexpected-exit-while-paused'\n",
      " 'unexpected-exit' 'logout' 'remote' 'trackerror']\n",
      "Unique values in 'artist_name' after standardization:\n",
      "[\"the mowgli's\" 'calvin harris' 'lana del rey' ... 'rudy snow'\n",
      " 'ultra band' 'jesse welles']\n",
      "Unique values in 'track_name' after standardization:\n",
      "['say it, just say it' 'drinking from the bottle (feat. tinie tempah)'\n",
      " 'born to die' ... 'oo-de-lally - from \"robin hood\"' 'king of the road'\n",
      " 'chug-a-lug']\n"
     ]
    }
   ],
   "source": [
    "# Standardize categorical values\n",
    "for col in categorical_columns:\n",
    "    if df[col].dtype == 'object':\n",
    "        # Convert to lowercase and strip whitespace\n",
    "        df[col] = df[col].str.lower().str.strip()\n",
    "        # Display unique values after standardization\n",
    "        print(f\"Unique values in '{col}' after standardization:\")\n",
    "        print(df[col].unique())"
   ]
  },
  {
   "cell_type": "code",
   "execution_count": 25,
   "id": "6f167637",
   "metadata": {},
   "outputs": [
    {
     "name": "stdout",
     "output_type": "stream",
     "text": [
      "First 20 rows of the DataFrame:\n",
      "         spotify_track_uri                  ts    platform  ms_played                                     track_name            artist_name                                         album_name reason_start reason_end  shuffle  skipped\n",
      "0   2J3n32GeLmMjwuAzyhcSNe 2013-07-08 02:44:34  web player       3185                            say it, just say it           the mowgli's                               Waiting For The Dawn     autoplay   clickrow    False    False\n",
      "1   1oHxIPqJyvAYHy0PVrDU98 2013-07-08 02:45:37  web player      61865  drinking from the bottle (feat. tinie tempah)          calvin harris                                          18 Months     clickrow   clickrow    False    False\n",
      "2   487OPlneJNni3NWC8SYqhW 2013-07-08 02:50:24  web player     285386                                    born to die           lana del rey                 Born To Die - The Paradise Edition     clickrow    unknown    False    False\n",
      "3   5IyblF777jLZj1vGHG2UD3 2013-07-08 02:52:40  web player     134022                               off to the races           lana del rey                 Born To Die - The Paradise Edition    trackdone   clickrow    False    False\n",
      "4   0GgAAB0ZMllFhbNc3mAodO 2013-07-08 03:17:52  web player          0                                      half mast      empire of the sun                                 Walking On A Dream     clickrow    nextbtn    False    False\n",
      "5   50VNvhzyaSplJCKWchN7a8 2013-07-08 03:17:52  web player      63485                                     impossible           james arthur                                         Impossible     clickrow   clickrow    False    False\n",
      "6   1I4EczxGBcPR3J3KeyqFJP 2013-07-08 03:17:56  web player          0                                 we own the sky                    m83                                  Saturdays = Youth      nextbtn    nextbtn    False    False\n",
      "7   5arVt2Wg0zbiWwAOZef2Nl 2013-07-08 03:17:56  web player       1268                higher ground - remastered 2003  red hot chili peppers                                      Mother's Milk      nextbtn    nextbtn    False    False\n",
      "8   1ixtaZc0Adil3yD1ItPqSl 2013-07-08 03:17:58  web player          0                                  happy up here               röyksopp                                      Happy Up Here      nextbtn    nextbtn    False    False\n",
      "9   2v5mpowLQNFN7NC46l0bJS 2013-07-08 03:19:11  web player          0                                        phantom                justice                                            Phantom      nextbtn   clickrow    False    False\n",
      "10  07hII2Rc29q4F2nTE3P1od 2013-07-08 03:20:20  web player      67587    sun - gildas kitsunй club night short remix   two door cinema club  The Kitsuné Special Edition #3 (Kitsuné Maison...     clickrow   clickrow    False    False\n",
      "11  4kO7mrAPfqIrsKwUOK5BFx 2013-07-08 03:20:36  web player      12846                                  midnight city                    m83                           Hurry Up, We're Dreaming     clickrow   clickrow    False    False\n",
      "12  4oTIuUmpE2xdXrpon9lgfJ 2013-07-08 03:21:13  web player      36132                                         heaven            emeli sandé                              Our Version Of Events     clickrow   clickrow    False    False\n",
      "13  49h0RYK3yzWkfbVyNJjJ01 2013-07-08 03:22:51  web player      95817                               do i wanna know?         arctic monkeys                                   Do I Wanna Know?     clickrow   clickrow    False    False\n",
      "14  4iG2gAwKXsOcijVaVXzRPW 2013-07-08 03:22:54  web player       1763                                time to pretend                   mgmt                               Oracular Spectacular     clickrow    nextbtn    False    False\n",
      "15  19K3lUMJmOdeuOBTrbLm19 2013-07-08 03:33:38  web player      45712                                   weekend wars                   mgmt                               Oracular Spectacular      nextbtn    nextbtn    False    False\n",
      "16  5nv854ey1k43KaZ0kHmE4Z 2013-07-08 03:37:30  web player     228021                                      the youth                   mgmt                               Oracular Spectacular      nextbtn    unknown    False    False\n",
      "17  3FtYbEfBqAlGO46NUDQSAt 2013-07-08 03:41:21  web player     229589                                  electric feel                   mgmt                               Oracular Spectacular    trackdone  trackdone    False    False\n",
      "18  1jJci4qxiYcOHhQR247rEU 2013-07-08 03:41:30  web player       7332                                           kids                   mgmt                               Oracular Spectacular    trackdone   clickrow    False    False\n",
      "19  4Sfa7hdVkqlM8UW5LsSY3F 2013-07-08 03:45:10  web player     217935                                    take a walk            passion pit                                           Gossamer     clickrow   clickrow    False    False\n"
     ]
    }
   ],
   "source": [
    "# Reveal first 20 rows of the DataFrame\n",
    "print(\"First 20 rows of the DataFrame:\")\n",
    "print(df.head(20))\n"
   ]
  },
  {
   "cell_type": "code",
   "execution_count": 27,
   "id": "234c7c3a",
   "metadata": {},
   "outputs": [],
   "source": [
    "# Save the cleaned DataFrame to a new CSV file\n",
    "df.to_csv('spotify_history_cleaned.csv', index=False)"
   ]
  },
  {
   "cell_type": "markdown",
   "id": "ed072a9e",
   "metadata": {},
   "source": [
    "### Data Cleaning Process: Issues and Solutions\n",
    "\n",
    "The data cleaning process involved several key steps to ensure the Spotify listening history dataset was accurate, consistent, and ready for analysis:\n",
    "\n",
    "1. **Handling Missing Values**  \n",
    "    - **Issue:** Some columns, notably `reason_start` and `reason_end`, contained missing values.\n",
    "    - **Solution:** Rows with missing values in these critical columns were dropped using `df.dropna(subset=['reason_start', 'reason_end'], inplace=True)`. This ensured that subsequent analyses would not be affected by incomplete records.\n",
    "\n",
    "2. **Removing Duplicates**  \n",
    "    - **Issue:** Duplicate rows were present, which could skew analysis results.\n",
    "    - **Solution:** Duplicates were identified with `df.duplicated().sum()` and removed using `df.drop_duplicates(inplace=True)`. This step ensured each listening event was unique.\n",
    "\n",
    "3. **Ensuring Data Type Consistency**  \n",
    "    - **Issue:** The `ts` (timestamp) column was not in datetime format, which could hinder time-based analysis.\n",
    "    - **Solution:** The column was converted to datetime using `pd.to_datetime()`, enabling accurate time-series operations.\n",
    "\n",
    "4. **Standardizing Categorical Values**  \n",
    "    - **Issue:** Inconsistent formatting (e.g., capitalization, extra spaces) in categorical columns like `artist_name` and `track_name`.\n",
    "    - **Solution:** All string values in categorical columns were converted to lowercase and stripped of whitespace. This standardization reduced redundancy and improved grouping accuracy.\n",
    "\n",
    "5. **Verifying Cleanliness**  \n",
    "    - **Issue:** After cleaning, it was important to confirm that all issues were resolved.\n",
    "    - **Solution:** The dataset was re-checked for missing values and duplicates, confirming that no further cleaning was necessary.\n",
    "\n",
    "By systematically addressing these issues, the dataset was transformed into a reliable foundation for further exploration and analysis."
   ]
  },
  {
   "cell_type": "markdown",
   "id": "a6cad485",
   "metadata": {},
   "source": [
    "## Section 2: Hypothesis Testing\n",
    "\n",
    "In this section, we will perform hypothesis testing to explore patterns and trends in the cleaned Spotify listening history dataset. Hypothesis testing allows us to make data-driven inferences about user behavior and listening preferences.\n",
    "\n",
    "**Example Hypotheses:**\n",
    "- *H1: Tracks played on mobile platforms are skipped more frequently than those played on web platforms.*\n",
    "- *H2: Songs played in shuffle mode have a higher skip rate than those played sequentially.*\n",
    "- *H3: Certain artists or genres are associated with longer listening durations.*\n",
    "\n",
    "**Workflow:**\n",
    "1. **Formulate Hypotheses:** Clearly state the null and alternative hypotheses for each question.\n",
    "2. **Select Statistical Tests:** Choose appropriate tests (e.g., t-test, chi-square test) based on data type and hypothesis.\n",
    "3. **Analyze Results:** Interpret p-values and test statistics to accept or reject the null hypothesis.\n",
    "4. **Draw Conclusions:** Summarize findings and their implications for user listening behavior.\n",
    "\n",
    "By applying hypothesis testing, we can uncover statistically significant insights and validate assumptions about Spotify listening habits."
   ]
  }
 ],
 "metadata": {
  "kernelspec": {
   "display_name": "venv",
   "language": "python",
   "name": "python3"
  },
  "language_info": {
   "codemirror_mode": {
    "name": "ipython",
    "version": 3
   },
   "file_extension": ".py",
   "mimetype": "text/x-python",
   "name": "python",
   "nbconvert_exporter": "python",
   "pygments_lexer": "ipython3",
   "version": "3.13.2"
  }
 },
 "nbformat": 4,
 "nbformat_minor": 5
}
