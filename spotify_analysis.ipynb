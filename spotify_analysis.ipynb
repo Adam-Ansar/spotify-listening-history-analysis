{
 "cells": [
  {
   "cell_type": "markdown",
   "id": "1a42db4c",
   "metadata": {},
   "source": [
    "## Introduction to Data Cleaning and Manipulation\n",
    "\n",
    "Before diving into analysis, it is essential to ensure our dataset—Spotify's top listening history songs—is clean, consistent, and well-structured. Data cleaning and manipulation are crucial steps that help us:\n",
    "\n",
    "- **Remove inconsistencies:** Address missing values, duplicates, and formatting issues.\n",
    "- **Standardize data:** Ensure uniformity in artist names, song titles, and genres.\n",
    "- **Enhance usability:** Create new features, filter relevant records, and prepare the data for insightful analysis.\n",
    "\n",
    "By carefully cleaning and manipulating the dataset, we lay a solid foundation for accurate and meaningful exploration of listening trends and patterns on Spotify."
   ]
  },
  {
   "cell_type": "markdown",
   "id": "9a73d12c",
   "metadata": {},
   "source": [
    "Import required libraries"
   ]
  },
  {
   "cell_type": "code",
   "execution_count": 1,
   "id": "37dee057",
   "metadata": {},
   "outputs": [],
   "source": [
    "import pandas as pd\n",
    "import matplotlib.pyplot as plt\n",
    "import seaborn as sns\n",
    "\n",
    "# Set some display options for better viewing of DataFrames\n",
    "pd.set_option('display.max_columns', None)\n",
    "pd.set_option('display.width', 1000)"
   ]
  }
 ],
 "metadata": {
  "kernelspec": {
   "display_name": "venv",
   "language": "python",
   "name": "python3"
  },
  "language_info": {
   "codemirror_mode": {
    "name": "ipython",
    "version": 3
   },
   "file_extension": ".py",
   "mimetype": "text/x-python",
   "name": "python",
   "nbconvert_exporter": "python",
   "pygments_lexer": "ipython3",
   "version": "3.13.2"
  }
 },
 "nbformat": 4,
 "nbformat_minor": 5
}
