{
 "cells": [
  {
   "cell_type": "markdown",
   "id": "1a42db4c",
   "metadata": {},
   "source": [
    "## Introduction to Data Cleaning and Manipulation\n",
    "\n",
    "Before diving into analysis, it is essential to ensure our dataset—Spotify's top listening history songs—is clean, consistent, and well-structured. Data cleaning and manipulation are crucial steps that help us:\n",
    "\n",
    "- **Remove inconsistencies:** Address missing values, duplicates, and formatting issues.\n",
    "- **Standardize data:** Ensure uniformity in artist names, song titles, and genres.\n",
    "- **Enhance usability:** Create new features, filter relevant records, and prepare the data for insightful analysis.\n",
    "\n",
    "Additionally, it is important to import the necessary libraries required for data analysis, such as pandas for data manipulation, matplotlib and seaborn for visualization, and others as needed.\n",
    "\n",
    "By carefully cleaning and manipulating the dataset, we lay a solid foundation for accurate and meaningful exploration of listening trends and patterns on Spotify."
   ]
  },
  {
   "cell_type": "code",
   "execution_count": 27,
   "id": "37dee057",
   "metadata": {},
   "outputs": [],
   "source": [
    "import pandas as pd\n",
    "import matplotlib.pyplot as plt\n",
    "import seaborn as sns\n",
    "import numpy as np\n",
    "\n",
    "\n",
    "# Set some display options for better viewing of DataFrames\n",
    "pd.set_option('display.max_columns', None)\n",
    "pd.set_option('display.width', 1000)"
   ]
  },
  {
   "cell_type": "code",
   "execution_count": 28,
   "id": "b0360c2c",
   "metadata": {},
   "outputs": [
    {
     "data": {
      "text/html": [
       "<div>\n",
       "<style scoped>\n",
       "    .dataframe tbody tr th:only-of-type {\n",
       "        vertical-align: middle;\n",
       "    }\n",
       "\n",
       "    .dataframe tbody tr th {\n",
       "        vertical-align: top;\n",
       "    }\n",
       "\n",
       "    .dataframe thead th {\n",
       "        text-align: right;\n",
       "    }\n",
       "</style>\n",
       "<table border=\"1\" class=\"dataframe\">\n",
       "  <thead>\n",
       "    <tr style=\"text-align: right;\">\n",
       "      <th></th>\n",
       "      <th>spotify_track_uri</th>\n",
       "      <th>ts</th>\n",
       "      <th>platform</th>\n",
       "      <th>ms_played</th>\n",
       "      <th>track_name</th>\n",
       "      <th>artist_name</th>\n",
       "      <th>album_name</th>\n",
       "      <th>reason_start</th>\n",
       "      <th>reason_end</th>\n",
       "      <th>shuffle</th>\n",
       "      <th>skipped</th>\n",
       "    </tr>\n",
       "  </thead>\n",
       "  <tbody>\n",
       "    <tr>\n",
       "      <th>0</th>\n",
       "      <td>2J3n32GeLmMjwuAzyhcSNe</td>\n",
       "      <td>2013-07-08 02:44:34</td>\n",
       "      <td>web player</td>\n",
       "      <td>3185</td>\n",
       "      <td>Say It, Just Say It</td>\n",
       "      <td>The Mowgli's</td>\n",
       "      <td>Waiting For The Dawn</td>\n",
       "      <td>autoplay</td>\n",
       "      <td>clickrow</td>\n",
       "      <td>False</td>\n",
       "      <td>False</td>\n",
       "    </tr>\n",
       "    <tr>\n",
       "      <th>1</th>\n",
       "      <td>1oHxIPqJyvAYHy0PVrDU98</td>\n",
       "      <td>2013-07-08 02:45:37</td>\n",
       "      <td>web player</td>\n",
       "      <td>61865</td>\n",
       "      <td>Drinking from the Bottle (feat. Tinie Tempah)</td>\n",
       "      <td>Calvin Harris</td>\n",
       "      <td>18 Months</td>\n",
       "      <td>clickrow</td>\n",
       "      <td>clickrow</td>\n",
       "      <td>False</td>\n",
       "      <td>False</td>\n",
       "    </tr>\n",
       "    <tr>\n",
       "      <th>2</th>\n",
       "      <td>487OPlneJNni3NWC8SYqhW</td>\n",
       "      <td>2013-07-08 02:50:24</td>\n",
       "      <td>web player</td>\n",
       "      <td>285386</td>\n",
       "      <td>Born To Die</td>\n",
       "      <td>Lana Del Rey</td>\n",
       "      <td>Born To Die - The Paradise Edition</td>\n",
       "      <td>clickrow</td>\n",
       "      <td>unknown</td>\n",
       "      <td>False</td>\n",
       "      <td>False</td>\n",
       "    </tr>\n",
       "    <tr>\n",
       "      <th>3</th>\n",
       "      <td>5IyblF777jLZj1vGHG2UD3</td>\n",
       "      <td>2013-07-08 02:52:40</td>\n",
       "      <td>web player</td>\n",
       "      <td>134022</td>\n",
       "      <td>Off To The Races</td>\n",
       "      <td>Lana Del Rey</td>\n",
       "      <td>Born To Die - The Paradise Edition</td>\n",
       "      <td>trackdone</td>\n",
       "      <td>clickrow</td>\n",
       "      <td>False</td>\n",
       "      <td>False</td>\n",
       "    </tr>\n",
       "    <tr>\n",
       "      <th>4</th>\n",
       "      <td>0GgAAB0ZMllFhbNc3mAodO</td>\n",
       "      <td>2013-07-08 03:17:52</td>\n",
       "      <td>web player</td>\n",
       "      <td>0</td>\n",
       "      <td>Half Mast</td>\n",
       "      <td>Empire Of The Sun</td>\n",
       "      <td>Walking On A Dream</td>\n",
       "      <td>clickrow</td>\n",
       "      <td>nextbtn</td>\n",
       "      <td>False</td>\n",
       "      <td>False</td>\n",
       "    </tr>\n",
       "  </tbody>\n",
       "</table>\n",
       "</div>"
      ],
      "text/plain": [
       "        spotify_track_uri                   ts    platform  ms_played                                     track_name        artist_name                          album_name reason_start reason_end  shuffle  skipped\n",
       "0  2J3n32GeLmMjwuAzyhcSNe  2013-07-08 02:44:34  web player       3185                            Say It, Just Say It       The Mowgli's                Waiting For The Dawn     autoplay   clickrow    False    False\n",
       "1  1oHxIPqJyvAYHy0PVrDU98  2013-07-08 02:45:37  web player      61865  Drinking from the Bottle (feat. Tinie Tempah)      Calvin Harris                           18 Months     clickrow   clickrow    False    False\n",
       "2  487OPlneJNni3NWC8SYqhW  2013-07-08 02:50:24  web player     285386                                    Born To Die       Lana Del Rey  Born To Die - The Paradise Edition     clickrow    unknown    False    False\n",
       "3  5IyblF777jLZj1vGHG2UD3  2013-07-08 02:52:40  web player     134022                               Off To The Races       Lana Del Rey  Born To Die - The Paradise Edition    trackdone   clickrow    False    False\n",
       "4  0GgAAB0ZMllFhbNc3mAodO  2013-07-08 03:17:52  web player          0                                      Half Mast  Empire Of The Sun                  Walking On A Dream     clickrow    nextbtn    False    False"
      ]
     },
     "execution_count": 28,
     "metadata": {},
     "output_type": "execute_result"
    }
   ],
   "source": [
    "# Load the dataset\n",
    "df = pd.read_csv('spotify_history.csv')\n",
    "# Display the first few rows of the DataFrame to ensure it's loaded correctly\n",
    "df.head()"
   ]
  },
  {
   "cell_type": "code",
   "execution_count": 29,
   "id": "8577e8e8",
   "metadata": {},
   "outputs": [
    {
     "name": "stdout",
     "output_type": "stream",
     "text": [
      "<class 'pandas.core.frame.DataFrame'>\n",
      "RangeIndex: 149860 entries, 0 to 149859\n",
      "Data columns (total 11 columns):\n",
      " #   Column             Non-Null Count   Dtype \n",
      "---  ------             --------------   ----- \n",
      " 0   spotify_track_uri  149860 non-null  object\n",
      " 1   ts                 149860 non-null  object\n",
      " 2   platform           149860 non-null  object\n",
      " 3   ms_played          149860 non-null  int64 \n",
      " 4   track_name         149860 non-null  object\n",
      " 5   artist_name        149860 non-null  object\n",
      " 6   album_name         149860 non-null  object\n",
      " 7   reason_start       149717 non-null  object\n",
      " 8   reason_end         149743 non-null  object\n",
      " 9   shuffle            149860 non-null  bool  \n",
      " 10  skipped            149860 non-null  bool  \n",
      "dtypes: bool(2), int64(1), object(8)\n",
      "memory usage: 10.6+ MB\n"
     ]
    }
   ],
   "source": [
    "# Discover basic information about the dataset\n",
    "df.info()\n"
   ]
  },
  {
   "cell_type": "code",
   "execution_count": 30,
   "id": "d9b1eb77",
   "metadata": {},
   "outputs": [
    {
     "data": {
      "text/html": [
       "<div>\n",
       "<style scoped>\n",
       "    .dataframe tbody tr th:only-of-type {\n",
       "        vertical-align: middle;\n",
       "    }\n",
       "\n",
       "    .dataframe tbody tr th {\n",
       "        vertical-align: top;\n",
       "    }\n",
       "\n",
       "    .dataframe thead th {\n",
       "        text-align: right;\n",
       "    }\n",
       "</style>\n",
       "<table border=\"1\" class=\"dataframe\">\n",
       "  <thead>\n",
       "    <tr style=\"text-align: right;\">\n",
       "      <th></th>\n",
       "      <th>ms_played</th>\n",
       "    </tr>\n",
       "  </thead>\n",
       "  <tbody>\n",
       "    <tr>\n",
       "      <th>count</th>\n",
       "      <td>1.498600e+05</td>\n",
       "    </tr>\n",
       "    <tr>\n",
       "      <th>mean</th>\n",
       "      <td>1.283166e+05</td>\n",
       "    </tr>\n",
       "    <tr>\n",
       "      <th>std</th>\n",
       "      <td>1.178401e+05</td>\n",
       "    </tr>\n",
       "    <tr>\n",
       "      <th>min</th>\n",
       "      <td>0.000000e+00</td>\n",
       "    </tr>\n",
       "    <tr>\n",
       "      <th>25%</th>\n",
       "      <td>2.795000e+03</td>\n",
       "    </tr>\n",
       "    <tr>\n",
       "      <th>50%</th>\n",
       "      <td>1.388400e+05</td>\n",
       "    </tr>\n",
       "    <tr>\n",
       "      <th>75%</th>\n",
       "      <td>2.185070e+05</td>\n",
       "    </tr>\n",
       "    <tr>\n",
       "      <th>max</th>\n",
       "      <td>1.561125e+06</td>\n",
       "    </tr>\n",
       "  </tbody>\n",
       "</table>\n",
       "</div>"
      ],
      "text/plain": [
       "          ms_played\n",
       "count  1.498600e+05\n",
       "mean   1.283166e+05\n",
       "std    1.178401e+05\n",
       "min    0.000000e+00\n",
       "25%    2.795000e+03\n",
       "50%    1.388400e+05\n",
       "75%    2.185070e+05\n",
       "max    1.561125e+06"
      ]
     },
     "execution_count": 30,
     "metadata": {},
     "output_type": "execute_result"
    }
   ],
   "source": [
    "# Load descriptive statistics\n",
    "df.describe()"
   ]
  },
  {
   "cell_type": "code",
   "execution_count": 31,
   "id": "42c37354",
   "metadata": {},
   "outputs": [
    {
     "name": "stdout",
     "output_type": "stream",
     "text": [
      "Missing values in each column:\n",
      "spotify_track_uri      0\n",
      "ts                     0\n",
      "platform               0\n",
      "ms_played              0\n",
      "track_name             0\n",
      "artist_name            0\n",
      "album_name             0\n",
      "reason_start         143\n",
      "reason_end           117\n",
      "shuffle                0\n",
      "skipped                0\n",
      "dtype: int64\n"
     ]
    }
   ],
   "source": [
    "# Check for missing values in the dataset\n",
    "missing_values = df.isnull().sum()\n",
    "\n",
    "# Display the missing values\n",
    "print(\"Missing values in each column:\")\n",
    "if missing_values.sum() == 0:\n",
    "    print(\"No missing values found in the dataset.\")\n",
    "else:\n",
    "    print(missing_values)"
   ]
  },
  {
   "cell_type": "code",
   "execution_count": 32,
   "id": "8a6f1979",
   "metadata": {},
   "outputs": [
    {
     "name": "stdout",
     "output_type": "stream",
     "text": [
      "Missing values after handling:\n",
      "No missing values found in the dataset after handling.\n"
     ]
    }
   ],
   "source": [
    "# Drop rows with missing values in 'reason_start' and 'reason_end' columns\n",
    "df.dropna(subset=['reason_start', 'reason_end'], inplace=True)\n",
    "\n",
    "# Verify that the missing values have been handled\n",
    "missing_values_after = df.isnull().sum()\n",
    "print(\"Missing values after handling:\")\n",
    "if missing_values_after.sum() == 0:\n",
    "    print(\"No missing values found in the dataset after handling.\")"
   ]
  },
  {
   "cell_type": "code",
   "execution_count": 33,
   "id": "52ebd76e",
   "metadata": {},
   "outputs": [
    {
     "name": "stdout",
     "output_type": "stream",
     "text": [
      "Number of duplicate rows: 1185\n"
     ]
    }
   ],
   "source": [
    "# Check duplicates in the dataset\n",
    "duplicates = df.duplicated().sum()  \n",
    "print(f\"Number of duplicate rows: {duplicates}\")\n"
   ]
  },
  {
   "cell_type": "code",
   "execution_count": 34,
   "id": "f8d4e71b",
   "metadata": {},
   "outputs": [
    {
     "name": "stdout",
     "output_type": "stream",
     "text": [
      "Number of duplicate rows after handling: 0\n"
     ]
    }
   ],
   "source": [
    "# Drop duplicates in the dataset\n",
    "df.drop_duplicates(inplace=True)    \n",
    "# Verify that the duplicates have been handled\n",
    "duplicates_after = df.duplicated().sum()\n",
    "print(f\"Number of duplicate rows after handling: {duplicates_after}\")"
   ]
  },
  {
   "cell_type": "code",
   "execution_count": 35,
   "id": "c98c59df",
   "metadata": {},
   "outputs": [
    {
     "name": "stdout",
     "output_type": "stream",
     "text": [
      "Data types of each column:\n",
      "spotify_track_uri    object\n",
      "ts                   object\n",
      "platform             object\n",
      "ms_played             int64\n",
      "track_name           object\n",
      "artist_name          object\n",
      "album_name           object\n",
      "reason_start         object\n",
      "reason_end           object\n",
      "shuffle                bool\n",
      "skipped                bool\n",
      "dtype: object\n"
     ]
    }
   ],
   "source": [
    "# Check data type consistency\n",
    "print(\"Data types of each column:\")\n",
    "print(df.dtypes)\n",
    "# Check for unique values in categorical columns\n",
    "categorical_columns = ['platform', 'reason_start', 'reason_end', 'artist_name',\n",
    "                          'track_name']\n"
   ]
  },
  {
   "cell_type": "code",
   "execution_count": 36,
   "id": "e9fdf804",
   "metadata": {},
   "outputs": [
    {
     "name": "stdout",
     "output_type": "stream",
     "text": [
      "\n",
      "'ts' column converted to datetime:\n",
      "datetime64[ns]\n"
     ]
    }
   ],
   "source": [
    "# Convert 'ts' column to datetime format\n",
    "df['ts'] = pd.to_datetime(df['ts'])\n",
    "print(\"\\n'ts' column converted to datetime:\")\n",
    "print(df['ts'].dtype) # Verify the change"
   ]
  },
  {
   "cell_type": "code",
   "execution_count": 37,
   "id": "5d88235b",
   "metadata": {},
   "outputs": [
    {
     "name": "stdout",
     "output_type": "stream",
     "text": [
      "Unique values in 'platform' after standardization:\n",
      "['web player' 'windows' 'android' 'ios' 'cast to device' 'mac']\n",
      "Unique values in 'reason_start' after standardization:\n",
      "['autoplay' 'clickrow' 'trackdone' 'nextbtn' 'backbtn' 'unknown' 'popup'\n",
      " 'appload' 'fwdbtn' 'trackerror' 'remote' 'endplay' 'playbtn']\n",
      "Unique values in 'reason_end' after standardization:\n",
      "['clickrow' 'unknown' 'nextbtn' 'trackdone' 'backbtn' 'reload' 'popup'\n",
      " 'endplay' 'fwdbtn' 'appload' 'unexpected-exit-while-paused'\n",
      " 'unexpected-exit' 'logout' 'remote' 'trackerror']\n",
      "Unique values in 'artist_name' after standardization:\n",
      "[\"the mowgli's\" 'calvin harris' 'lana del rey' ... 'rudy snow'\n",
      " 'ultra band' 'jesse welles']\n",
      "Unique values in 'track_name' after standardization:\n",
      "['say it, just say it' 'drinking from the bottle (feat. tinie tempah)'\n",
      " 'born to die' ... 'oo-de-lally - from \"robin hood\"' 'king of the road'\n",
      " 'chug-a-lug']\n"
     ]
    }
   ],
   "source": [
    "# Standardize categorical values\n",
    "for col in categorical_columns:\n",
    "    if df[col].dtype == 'object':\n",
    "        # Convert to lowercase and strip whitespace\n",
    "        df[col] = df[col].str.lower().str.strip()\n",
    "        # Display unique values after standardization\n",
    "        print(f\"Unique values in '{col}' after standardization:\")\n",
    "        print(df[col].unique())"
   ]
  },
  {
   "cell_type": "code",
   "execution_count": 38,
   "id": "6f167637",
   "metadata": {},
   "outputs": [
    {
     "name": "stdout",
     "output_type": "stream",
     "text": [
      "First 20 rows of the DataFrame:\n",
      "         spotify_track_uri                  ts    platform  ms_played                                     track_name            artist_name                                         album_name reason_start reason_end  shuffle  skipped\n",
      "0   2J3n32GeLmMjwuAzyhcSNe 2013-07-08 02:44:34  web player       3185                            say it, just say it           the mowgli's                               Waiting For The Dawn     autoplay   clickrow    False    False\n",
      "1   1oHxIPqJyvAYHy0PVrDU98 2013-07-08 02:45:37  web player      61865  drinking from the bottle (feat. tinie tempah)          calvin harris                                          18 Months     clickrow   clickrow    False    False\n",
      "2   487OPlneJNni3NWC8SYqhW 2013-07-08 02:50:24  web player     285386                                    born to die           lana del rey                 Born To Die - The Paradise Edition     clickrow    unknown    False    False\n",
      "3   5IyblF777jLZj1vGHG2UD3 2013-07-08 02:52:40  web player     134022                               off to the races           lana del rey                 Born To Die - The Paradise Edition    trackdone   clickrow    False    False\n",
      "4   0GgAAB0ZMllFhbNc3mAodO 2013-07-08 03:17:52  web player          0                                      half mast      empire of the sun                                 Walking On A Dream     clickrow    nextbtn    False    False\n",
      "5   50VNvhzyaSplJCKWchN7a8 2013-07-08 03:17:52  web player      63485                                     impossible           james arthur                                         Impossible     clickrow   clickrow    False    False\n",
      "6   1I4EczxGBcPR3J3KeyqFJP 2013-07-08 03:17:56  web player          0                                 we own the sky                    m83                                  Saturdays = Youth      nextbtn    nextbtn    False    False\n",
      "7   5arVt2Wg0zbiWwAOZef2Nl 2013-07-08 03:17:56  web player       1268                higher ground - remastered 2003  red hot chili peppers                                      Mother's Milk      nextbtn    nextbtn    False    False\n",
      "8   1ixtaZc0Adil3yD1ItPqSl 2013-07-08 03:17:58  web player          0                                  happy up here               röyksopp                                      Happy Up Here      nextbtn    nextbtn    False    False\n",
      "9   2v5mpowLQNFN7NC46l0bJS 2013-07-08 03:19:11  web player          0                                        phantom                justice                                            Phantom      nextbtn   clickrow    False    False\n",
      "10  07hII2Rc29q4F2nTE3P1od 2013-07-08 03:20:20  web player      67587    sun - gildas kitsunй club night short remix   two door cinema club  The Kitsuné Special Edition #3 (Kitsuné Maison...     clickrow   clickrow    False    False\n",
      "11  4kO7mrAPfqIrsKwUOK5BFx 2013-07-08 03:20:36  web player      12846                                  midnight city                    m83                           Hurry Up, We're Dreaming     clickrow   clickrow    False    False\n",
      "12  4oTIuUmpE2xdXrpon9lgfJ 2013-07-08 03:21:13  web player      36132                                         heaven            emeli sandé                              Our Version Of Events     clickrow   clickrow    False    False\n",
      "13  49h0RYK3yzWkfbVyNJjJ01 2013-07-08 03:22:51  web player      95817                               do i wanna know?         arctic monkeys                                   Do I Wanna Know?     clickrow   clickrow    False    False\n",
      "14  4iG2gAwKXsOcijVaVXzRPW 2013-07-08 03:22:54  web player       1763                                time to pretend                   mgmt                               Oracular Spectacular     clickrow    nextbtn    False    False\n",
      "15  19K3lUMJmOdeuOBTrbLm19 2013-07-08 03:33:38  web player      45712                                   weekend wars                   mgmt                               Oracular Spectacular      nextbtn    nextbtn    False    False\n",
      "16  5nv854ey1k43KaZ0kHmE4Z 2013-07-08 03:37:30  web player     228021                                      the youth                   mgmt                               Oracular Spectacular      nextbtn    unknown    False    False\n",
      "17  3FtYbEfBqAlGO46NUDQSAt 2013-07-08 03:41:21  web player     229589                                  electric feel                   mgmt                               Oracular Spectacular    trackdone  trackdone    False    False\n",
      "18  1jJci4qxiYcOHhQR247rEU 2013-07-08 03:41:30  web player       7332                                           kids                   mgmt                               Oracular Spectacular    trackdone   clickrow    False    False\n",
      "19  4Sfa7hdVkqlM8UW5LsSY3F 2013-07-08 03:45:10  web player     217935                                    take a walk            passion pit                                           Gossamer     clickrow   clickrow    False    False\n"
     ]
    }
   ],
   "source": [
    "# Reveal first 20 rows of the DataFrame\n",
    "print(\"First 20 rows of the DataFrame:\")\n",
    "print(df.head(20))\n"
   ]
  },
  {
   "cell_type": "code",
   "execution_count": 39,
   "id": "234c7c3a",
   "metadata": {},
   "outputs": [],
   "source": [
    "# Save the cleaned DataFrame to a new CSV file\n",
    "df.to_csv('spotify_history_cleaned.csv', index=False)"
   ]
  },
  {
   "cell_type": "markdown",
   "id": "ed072a9e",
   "metadata": {},
   "source": [
    "### Data Cleaning Process: Issues and Solutions\n",
    "\n",
    "The data cleaning process involved several key steps to ensure the Spotify listening history dataset was accurate, consistent, and ready for analysis:\n",
    "\n",
    "1. **Handling Missing Values**  \n",
    "    - **Issue:** Some columns, notably `reason_start` and `reason_end`, contained missing values.\n",
    "    - **Solution:** Rows with missing values in these critical columns were dropped using `df.dropna(subset=['reason_start', 'reason_end'], inplace=True)`. This ensured that subsequent analyses would not be affected by incomplete records.\n",
    "\n",
    "2. **Removing Duplicates**  \n",
    "    - **Issue:** Duplicate rows were present, which could skew analysis results.\n",
    "    - **Solution:** Duplicates were identified with `df.duplicated().sum()` and removed using `df.drop_duplicates(inplace=True)`. This step ensured each listening event was unique.\n",
    "\n",
    "3. **Ensuring Data Type Consistency**  \n",
    "    - **Issue:** The `ts` (timestamp) column was not in datetime format, which could hinder time-based analysis.\n",
    "    - **Solution:** The column was converted to datetime using `pd.to_datetime()`, enabling accurate time-series operations.\n",
    "\n",
    "4. **Standardizing Categorical Values**  \n",
    "    - **Issue:** Inconsistent formatting (e.g., capitalization, extra spaces) in categorical columns like `artist_name` and `track_name`.\n",
    "    - **Solution:** All string values in categorical columns were converted to lowercase and stripped of whitespace. This standardization reduced redundancy and improved grouping accuracy.\n",
    "\n",
    "5. **Verifying Cleanliness**  \n",
    "    - **Issue:** After cleaning, it was important to confirm that all issues were resolved.\n",
    "    - **Solution:** The dataset was re-checked for missing values and duplicates, confirming that no further cleaning was necessary.\n",
    "\n",
    "By systematically addressing these issues, the dataset was transformed into a reliable foundation for further exploration and analysis."
   ]
  },
  {
   "cell_type": "markdown",
   "id": "a6cad485",
   "metadata": {},
   "source": [
    "## Section 2: Hypothesis Testing\n",
    "\n",
    "In this section, we will now utilise the cleaned dataset to begin hypothesis testing. Below are 3 hypothesis chosen which will be tested.\n",
    "\n",
    "**Hypotheses to be tested:**\n",
    "\n",
    "- **H1:** The user's listening activity peaks during weekends compared to weekdays.\n",
    "- **H2:** Tracks played with shuffle mode (`shuffle = True`) enabled have a higher likelihood of being skipped (`skipped = True`) compared to tracks played sequentially.\n",
    "- **H3:** When a track is ended due to being skipped (`reason_end = 'track_skipped'`), the `ms_played` duration is significantly shorter than when a track is completed (`reason_end = 'track_completed'`).\n",
    "\n",
    "**Workflow:**\n",
    "1. **Formulate Hypotheses:** Clearly state the null and alternative hypotheses for each question.\n",
    "2. **Select Statistical Tests:** Choose appropriate tests (e.g., t-test, chi-square test) based on data type and hypothesis.\n",
    "3. **Analyze Results:** Interpret p-values and test statistics to accept or reject the null hypothesis.\n",
    "4. **Draw Conclusions:** Summarize findings and their implications for user listening behavior.\n",
    "\n",
    "By applying hypothesis testing, we can uncover statistically significant insights and validate assumptions about Spotify listening habits."
   ]
  },
  {
   "cell_type": "markdown",
   "id": "0c5d01d4",
   "metadata": {},
   "source": [
    "Hypothesis 1:"
   ]
  },
  {
   "cell_type": "code",
   "execution_count": 40,
   "id": "c01160ae",
   "metadata": {},
   "outputs": [],
   "source": [
    "# Load the cleaned dataset\n",
    "df_cleaned = pd.read_csv('spotify_history_cleaned.csv')"
   ]
  },
  {
   "cell_type": "code",
   "execution_count": 41,
   "id": "9135658a",
   "metadata": {},
   "outputs": [],
   "source": [
    "# Define lists into weekdays and weekends\n",
    "weekdays = ['monday', 'tuesday', 'wednesday', 'thursday', 'friday']\n",
    "weekends = ['saturday', 'sunday']\n"
   ]
  },
  {
   "cell_type": "code",
   "execution_count": 42,
   "id": "dd5fc7e7",
   "metadata": {},
   "outputs": [
    {
     "name": "stdout",
     "output_type": "stream",
     "text": [
      "Created 'day_type' column.\n",
      "                        ts day_type\n",
      "130524 2023-03-30 00:39:51  weekday\n",
      "71266  2020-05-20 19:53:41  weekday\n",
      "10871  2017-01-12 05:34:24  weekday\n",
      "17187  2017-05-28 19:53:26  weekend\n",
      "103708 2021-08-21 05:06:52  weekend\n"
     ]
    }
   ],
   "source": [
    "# Ensure 'ts' column is in datetime format\n",
    "df_cleaned['ts'] = pd.to_datetime(df_cleaned['ts'])\n",
    "\n",
    "# Create a new column 'day_type' to categorize days\n",
    "df_cleaned['day_type'] = df_cleaned['ts'].dt.day_name().str.lower().apply(\n",
    "    lambda x: 'weekday' if x in weekdays else 'weekend' if x in weekends else 'unknown'\n",
    ")\n",
    "\n",
    "print(\"Created 'day_type' column.\")\n",
    "# Display a sample to verify\n",
    "print(df_cleaned[['ts', 'day_type']].sample(5))"
   ]
  },
  {
   "cell_type": "code",
   "execution_count": 43,
   "id": "3ec68f58",
   "metadata": {},
   "outputs": [
    {
     "name": "stdout",
     "output_type": "stream",
     "text": [
      "Total listening time for weekdays and weekends:\n",
      "  day_type    ms_played  hours_played\n",
      "0  weekday  14324341600   14324341600\n",
      "1  weekend   4684630646    4684630646\n"
     ]
    }
   ],
   "source": [
    "# Generate total listening time for weekends and weekdays\n",
    "total_listening_time = df_cleaned.groupby('day_type')['ms_played'].sum(). reset_index()\n",
    "total_listening_time['ms_played'] = total_listening_time['ms_played']   # Convert milliseconds to hours for better readability\n",
    "total_listening_time['hours_played'] = total_listening_time['ms_played']\n",
    "\n",
    "# Print the total listening time for weekdays and weekends\n",
    "print(\"Total listening time for weekdays and weekends:\")\n",
    "print(total_listening_time[['day_type', 'ms_played', 'hours_played']])"
   ]
  },
  {
   "cell_type": "code",
   "execution_count": 44,
   "id": "810b2a5a",
   "metadata": {},
   "outputs": [
    {
     "data": {
      "image/png": "[encoded data removed]",
      "text/plain": [
       "<Figure size 1000x600 with 1 Axes>"
      ]
     },
     "metadata": {},
     "output_type": "display_data"
    }
   ],
   "source": [
    "plt.figure(figsize=(10, 6))\n",
    "sns.barplot(x='day_type', y='hours_played', hue='day_type', data=total_listening_time, palette='viridis', legend=False)\n",
    "plt.title('Total Listening Time for Weekdays and Weekends')\n",
    "plt.xlabel('Day Type')\n",
    "plt.ylabel('Hours Played')\n",
    "plt.xticks(rotation=45)\n",
    "plt.tight_layout()\n",
    "plt.show()\n"
   ]
  },
  {
   "cell_type": "code",
   "execution_count": 45,
   "id": "38299849",
   "metadata": {},
   "outputs": [
    {
     "data": {
      "image/png": "[encoded data removed]",
      "text/plain": [
       "<Figure size 800x600 with 1 Axes>"
      ]
     },
     "metadata": {},
     "output_type": "display_data"
    }
   ],
   "source": [
    "plt.figure(figsize=(8, 6))\n",
    "sns.boxplot(x='day_type', y='ms_played', hue='day_type', data=df_cleaned, palette='viridis', legend=False)\n",
    "plt.title('Distribution of Listening Time per Track: Weekdays vs Weekends')\n",
    "plt.xlabel('Day Type')\n",
    "plt.ylabel('Listening Time (ms)')\n",
    "plt.tight_layout()\n",
    "plt.show()\n"
   ]
  },
  {
   "cell_type": "markdown",
   "id": "dd4b4512",
   "metadata": {},
   "source": [
    "### Hypothesis 1 Analysis: Listening Activity on Weekdays vs. Weekends\n",
    "\n",
    "For Hypothesis 1, we investigated whether the user's listening activity peaks during weekends compared to weekdays. The analysis involved the following steps:\n",
    "\n",
    "1. **Data Preparation:**  \n",
    "    - The cleaned dataset (`df_cleaned`) was used.\n",
    "    - Each listening event was categorized as either \"weekday\" or \"weekend\" based on the timestamp (`ts`), using the `day_type` column.\n",
    "\n",
    "2. **Aggregation:**  \n",
    "    - Total listening time (`ms_played`) was calculated separately for weekdays and weekends.\n",
    "    - The results showed the sum of listening time for each category.\n",
    "\n",
    "3. **Visualization:**  \n",
    "    - Bar plots and box plots were generated to visually compare total and per-track listening times between weekdays and weekends.\n",
    "\n",
    "4. **Findings:**  \n",
    "    - The total listening time was higher on weekdays than on weekends, as shown in the aggregated results and visualizations.\n",
    "    - The distribution of listening time per track was also compared, providing further insight into user behavior.\n",
    "\n",
    "**Conclusion:**  \n",
    "Contrary to the initial hypothesis, the user's listening activity did not peak during weekends. Instead, more listening occurred on weekdays, both in total and per track. This suggests that the user may listen to Spotify more frequently during the workweek, possibly as background activity or during commutes."
   ]
  },
  {
   "cell_type": "markdown",
   "id": "16bc04d8",
   "metadata": {},
   "source": [
    "### Hypothesis 2\n",
    "\n",
    "**Hypothesis:**  \n",
    "Tracks played with shuffle mode (`shuffle = True`) enabled have a higher likelihood of being skipped (`skipped = True`) compared to tracks played sequentially.\n",
    "\n",
    "- **Null Hypothesis (H₀):**  \n",
    "    There is no association between shuffle mode being enabled and a track being skipped.  \n",
    "    (i.e., the likelihood of skipping is the same whether shuffle is on or off.)\n",
    "\n",
    "- **Alternative Hypothesis (H₁):**  \n",
    "    There is an association between shuffle mode being enabled and a track being skipped.  \n",
    "    (i.e., the likelihood of skipping changes when shuffle mode is on.)"
   ]
  },
  {
   "cell_type": "code",
   "execution_count": 46,
   "id": "523fcc2f",
   "metadata": {},
   "outputs": [
    {
     "name": "stdout",
     "output_type": "stream",
     "text": [
      "Contingency Table:\n",
      " skipped   False  True \n",
      "shuffle               \n",
      "False     35415   1567\n",
      "True     105303   6178\n",
      "\n",
      "Chi-square statistic: 95.3155\n",
      "p-value: 1.6234e-22\n",
      "Degrees of freedom: 1\n",
      "Expected frequencies:\n",
      " [[ 35052.72745398   1929.27254602]\n",
      " [105665.27254602   5815.72745398]]\n",
      "\n",
      "Result: Reject the null hypothesis. There is a significant association between shuffle mode and skipping tracks.\n"
     ]
    }
   ],
   "source": [
    "from scipy.stats import chi2_contingency\n",
    "\n",
    "# Create a contingency table for shuffle and skipped\n",
    "contingency_table = pd.crosstab(df_cleaned['shuffle'], df_cleaned['skipped'])\n",
    "print(\"Contingency Table:\\n\", contingency_table)\n",
    "\n",
    "# Perform chi-square test of independence\n",
    "chi2, p, dof, expected = chi2_contingency(contingency_table)\n",
    "print(f\"\\nChi-square statistic: {chi2:.4f}\")\n",
    "print(f\"p-value: {p:.4e}\")\n",
    "print(f\"Degrees of freedom: {dof}\")\n",
    "print(\"Expected frequencies:\\n\", expected)\n",
    "\n",
    "# Interpretation\n",
    "if p < 0.05:\n",
    "    print(\"\\nResult: Reject the null hypothesis. There is a significant association between shuffle mode and skipping tracks.\")\n",
    "else:\n",
    "    print(\"\\nResult: Fail to reject the null hypothesis. No significant association between shuffle mode and skipping tracks.\")"
   ]
  },
  {
   "cell_type": "code",
   "execution_count": 47,
   "id": "7a5aabe7",
   "metadata": {},
   "outputs": [
    {
     "data": {
      "image/png": "[encoded data removed]",
      "text/plain": [
       "<Figure size 800x600 with 1 Axes>"
      ]
     },
     "metadata": {},
     "output_type": "display_data"
    }
   ],
   "source": [
    "# Advanced visualization: Compare skip rates by shuffle mode using a stacked bar plot\n",
    "\n",
    "# Calculate skip rates for shuffle ON and OFF\n",
    "skip_counts = df_cleaned.groupby(['shuffle', 'skipped']).size().unstack(fill_value=0)\n",
    "skip_props = skip_counts.div(skip_counts.sum(axis=1), axis=0)\n",
    "\n",
    "# Plot stacked bar chart\n",
    "skip_props.plot(kind='bar', stacked=True, color=['#4daf4a', '#e41a1c'], figsize=(8,6))\n",
    "plt.title('Skip Rate by Shuffle Mode')\n",
    "plt.xlabel('Shuffle Mode')\n",
    "plt.ylabel('Proportion of Plays')\n",
    "plt.xticks([0, 1], ['Shuffle Off', 'Shuffle On'], rotation=0)\n",
    "plt.legend(['Not Skipped', 'Skipped'], title='Track Skipped')\n",
    "plt.tight_layout()\n",
    "plt.show()"
   ]
  },
  {
   "cell_type": "markdown",
   "id": "fd42c811",
   "metadata": {},
   "source": [
    "### Hypothesis 2 Summary: Shuffle Mode and Track Skipping\n",
    "\n",
    "**Hypothesis:**  \n",
    "Tracks played with shuffle mode enabled (`shuffle = True`) have a higher likelihood of being skipped (`skipped = True`) compared to tracks played sequentially.\n",
    "\n",
    "**Analysis Steps:**\n",
    "- A contingency table was created to compare the frequency of skipped and non-skipped tracks for both shuffle modes.\n",
    "- A chi-square test of independence was performed to assess the association between shuffle mode and skipping behavior.\n",
    "\n",
    "**Key Results:**\n",
    "- **Chi-square statistic:** 95.32  \n",
    "- **Degrees of freedom:** 1  \n",
    "- **p-value:** 1.62e-22 (significantly less than 0.05)\n",
    "\n",
    "**Interpretation:**\n",
    "- The p-value is far below the 0.05 threshold, so we reject the null hypothesis.\n",
    "- There is a statistically significant association between shuffle mode and the likelihood of skipping tracks.\n",
    "\n",
    "**Observed Skip Rates:**\n",
    "- **Shuffle Off:** 4.2% of tracks skipped\n",
    "- **Shuffle On:** 5.5% of tracks skipped\n",
    "\n",
    "**Conclusion:**  \n",
    "Tracks played with shuffle mode enabled are skipped at a higher rate than those played sequentially. This suggests that users are more likely to skip tracks when listening in shuffle mode, possibly due to less control over the song order or encountering less preferred tracks."
   ]
  }
 ],
 "metadata": {
  "kernelspec": {
   "display_name": "venv",
   "language": "python",
   "name": "python3"
  },
  "language_info": {
   "codemirror_mode": {
    "name": "ipython",
    "version": 3
   },
   "file_extension": ".py",
   "mimetype": "text/x-python",
   "name": "python",
   "nbconvert_exporter": "python",
   "pygments_lexer": "ipython3",
   "version": "3.13.2"
  }
 },
 "nbformat": 4,
 "nbformat_minor": 5
}
